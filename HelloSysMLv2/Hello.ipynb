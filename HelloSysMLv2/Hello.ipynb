{
 "cells": [
  {
   "cell_type": "code",
   "execution_count": 1,
   "id": "d20d7d06",
   "metadata": {},
   "outputs": [
    {
     "data": {
      "text/plain": [
       "Package Hello (726b7e22-dbfb-4988-b830-ed81f07b814c)\n"
      ]
     },
     "execution_count": 1,
     "metadata": {},
     "output_type": "execute_result"
    }
   ],
   "source": [
    "package Hello {\n",
    "    \n",
    "    part system {\n",
    "        \n",
    "        part A;\n",
    "        part B;\n",
    "        \n",
    "        connect A to B;\n",
    "        \n",
    "    }\n",
    "    \n",
    "}"
   ]
  },
  {
   "cell_type": "code",
   "execution_count": 2,
   "id": "38bd196a",
   "metadata": {},
   "outputs": [
    {
     "data": {
      "image/svg+xml": [
       "<?xml version=\"1.0\" encoding=\"UTF-8\" standalone=\"no\"?><svg xmlns=\"http://www.w3.org/2000/svg\" xmlns:xlink=\"http://www.w3.org/1999/xlink\" contentScriptType=\"application/ecmascript\" contentStyleType=\"text/css\" height=\"327px\" preserveAspectRatio=\"none\" style=\"width:145px;height:327px;\" version=\"1.1\" viewBox=\"0 0 145 327\" width=\"145px\" zoomAndPan=\"magnify\"><defs/><g><!--MD5=[fbc87193dbaf4d95561dea2c320d4a47]\n",
       "cluster E1--><a href=\"psysml:b556d8c7-5ecd-4c74-8f0a-27ee9e613fa9\" target=\"_top\" title=\"psysml:b556d8c7-5ecd-4c74-8f0a-27ee9e613fa9\" xlink:actuate=\"onRequest\" xlink:href=\"psysml:b556d8c7-5ecd-4c74-8f0a-27ee9e613fa9\" xlink:show=\"new\" xlink:title=\"psysml:b556d8c7-5ecd-4c74-8f0a-27ee9e613fa9\" xlink:type=\"simple\"><polygon fill=\"#FFFFFF\" points=\"16,6,60,6,67,28.4883,123,28.4883,123,315,16,315,16,6\" style=\"stroke: #000000; stroke-width: 1.5;\"/><line style=\"stroke: #000000; stroke-width: 1.5;\" x1=\"16\" x2=\"67\" y1=\"28.4883\" y2=\"28.4883\"/><text fill=\"#000000\" font-family=\"sans-serif\" font-size=\"14\" font-weight=\"bold\" lengthAdjust=\"spacingAndGlyphs\" textLength=\"38\" x=\"20\" y=\"21.5352\">Hello</text></a><!--MD5=[b4997ac47864f28c2f74865a473b2911]\n",
       "class E2--><a href=\"psysml:0b6902f8-d140-4cd6-8e59-a9de4b5a8614\" target=\"_top\" title=\"psysml:0b6902f8-d140-4cd6-8e59-a9de4b5a8614\" xlink:actuate=\"onRequest\" xlink:href=\"psysml:0b6902f8-d140-4cd6-8e59-a9de4b5a8614\" xlink:show=\"new\" xlink:title=\"psysml:0b6902f8-d140-4cd6-8e59-a9de4b5a8614\" xlink:type=\"simple\"><rect fill=\"#FFFFFF\" height=\"46.2656\" id=\"E2\" rx=\"10\" ry=\"10\" style=\"stroke: #383838; stroke-width: 1.5;\" width=\"50\" x=\"44\" y=\"41\"/><text fill=\"#000000\" font-family=\"sans-serif\" font-size=\"12\" font-style=\"italic\" lengthAdjust=\"spacingAndGlyphs\" textLength=\"36\" x=\"51\" y=\"57.6016\">«part»</text><text fill=\"#000000\" font-family=\"sans-serif\" font-size=\"12\" lengthAdjust=\"spacingAndGlyphs\" textLength=\"40\" x=\"47\" y=\"71.7344\">system</text><line style=\"stroke: #383838; stroke-width: 1.5;\" x1=\"45\" x2=\"93\" y1=\"79.2656\" y2=\"79.2656\"/></a><!--MD5=[09b614a08d8cba4a07c9adeb5e0fee81]\n",
       "class E3--><a href=\"psysml:cb7b52a8-3b2e-4f40-ae61-465bc376b06c\" target=\"_top\" title=\"psysml:cb7b52a8-3b2e-4f40-ae61-465bc376b06c\" xlink:actuate=\"onRequest\" xlink:href=\"psysml:cb7b52a8-3b2e-4f40-ae61-465bc376b06c\" xlink:show=\"new\" xlink:title=\"psysml:cb7b52a8-3b2e-4f40-ae61-465bc376b06c\" xlink:type=\"simple\"><rect fill=\"#FFFFFF\" height=\"46.2656\" id=\"E3\" rx=\"10\" ry=\"10\" style=\"stroke: #383838; stroke-width: 1.5;\" width=\"38\" x=\"32\" y=\"147\"/><text fill=\"#000000\" font-family=\"sans-serif\" font-size=\"12\" font-style=\"italic\" lengthAdjust=\"spacingAndGlyphs\" textLength=\"36\" x=\"33\" y=\"163.6016\">«part»</text><text fill=\"#000000\" font-family=\"sans-serif\" font-size=\"12\" lengthAdjust=\"spacingAndGlyphs\" textLength=\"8\" x=\"45\" y=\"177.7344\">A</text><line style=\"stroke: #383838; stroke-width: 1.5;\" x1=\"33\" x2=\"69\" y1=\"185.2656\" y2=\"185.2656\"/></a><!--MD5=[ebbe1d658d1005bcc118a6aa81145e00]\n",
       "class E4--><a href=\"psysml:4f050e5d-b38d-4a30-8ba5-abf41a977f35\" target=\"_top\" title=\"psysml:4f050e5d-b38d-4a30-8ba5-abf41a977f35\" xlink:actuate=\"onRequest\" xlink:href=\"psysml:4f050e5d-b38d-4a30-8ba5-abf41a977f35\" xlink:show=\"new\" xlink:title=\"psysml:4f050e5d-b38d-4a30-8ba5-abf41a977f35\" xlink:type=\"simple\"><rect fill=\"#FFFFFF\" height=\"46.2656\" id=\"E4\" rx=\"10\" ry=\"10\" style=\"stroke: #383838; stroke-width: 1.5;\" width=\"38\" x=\"50\" y=\"253\"/><text fill=\"#000000\" font-family=\"sans-serif\" font-size=\"12\" font-style=\"italic\" lengthAdjust=\"spacingAndGlyphs\" textLength=\"36\" x=\"51\" y=\"269.6016\">«part»</text><text fill=\"#000000\" font-family=\"sans-serif\" font-size=\"12\" lengthAdjust=\"spacingAndGlyphs\" textLength=\"7\" x=\"63.5\" y=\"283.7344\">B</text><line style=\"stroke: #383838; stroke-width: 1.5;\" x1=\"51\" x2=\"87\" y1=\"291.2656\" y2=\"291.2656\"/></a><!--MD5=[209b3feb70ccb6233bfe1053d122c12c]\n",
       "reverse link E2 to E3--><a href=\"psysml:5431a416-5093-4b7b-9613-e798ac50bac1\" target=\"_top\" title=\"psysml:5431a416-5093-4b7b-9613-e798ac50bac1\" xlink:actuate=\"onRequest\" xlink:href=\"psysml:5431a416-5093-4b7b-9613-e798ac50bac1\" xlink:show=\"new\" xlink:title=\"psysml:5431a416-5093-4b7b-9613-e798ac50bac1\" xlink:type=\"simple\"><path d=\"M62.95,99.96 C60.26,115.51 57.17,133.33 54.81,146.98 \" fill=\"none\" id=\"E2&lt;-E3\" style=\"stroke: #383838; stroke-width: 1.0;\"/><polygon fill=\"#383838\" points=\"65.18,87.06,60.2168,92.2913,63.1367,98.8848,68.0999,93.6535,65.18,87.06\" style=\"stroke: #383838; stroke-width: 1.0;\"/><text fill=\"#000000\" font-family=\"sans-serif\" font-size=\"13\" lengthAdjust=\"spacingAndGlyphs\" textLength=\"8\" x=\"46.7589\" y=\"136.3521\">1</text></a><!--MD5=[9618e71518536f8baf3342ff6fdab317]\n",
       "reverse link E2 to E4--><a href=\"psysml:af57a46e-73be-46c1-a364-9280479100e8\" target=\"_top\" title=\"psysml:af57a46e-73be-46c1-a364-9280479100e8\" xlink:actuate=\"onRequest\" xlink:href=\"psysml:af57a46e-73be-46c1-a364-9280479100e8\" xlink:show=\"new\" xlink:title=\"psysml:af57a46e-73be-46c1-a364-9280479100e8\" xlink:type=\"simple\"><path d=\"M78.95,99.97 C82.57,114.4 86.21,131.38 88,147 C90.32,167.31 90.32,172.69 88,193 C85.64,213.62 80.05,236.59 75.55,252.96 \" fill=\"none\" id=\"E2&lt;-E4\" style=\"stroke: #383838; stroke-width: 1.0;\"/><polygon fill=\"#383838\" points=\"75.55,87.04,73.2117,93.8615,78.6091,98.6435,80.9474,91.8221,75.55,87.04\" style=\"stroke: #383838; stroke-width: 1.0;\"/><text fill=\"#000000\" font-family=\"sans-serif\" font-size=\"13\" lengthAdjust=\"spacingAndGlyphs\" textLength=\"8\" x=\"68.2353\" y=\"242.3268\">1</text></a><!--MD5=[af87c684e3b0d8be13c1a698a818ef1e]\n",
       "link E3 to E4--><a href=\"psysml:83bb6916-5ed6-4928-938a-c263c3aadc0b\" target=\"_top\" title=\"psysml:83bb6916-5ed6-4928-938a-c263c3aadc0b\" xlink:actuate=\"onRequest\" xlink:href=\"psysml:83bb6916-5ed6-4928-938a-c263c3aadc0b\" xlink:show=\"new\" xlink:title=\"psysml:83bb6916-5ed6-4928-938a-c263c3aadc0b\" xlink:type=\"simple\"><path d=\"M54.82,193.06 C57.87,210.7 62.13,235.34 65.19,252.98 \" fill=\"none\" id=\"E3-E4\" style=\"stroke: #383838; stroke-width: 3.0;\"/><text fill=\"#000000\" font-family=\"sans-serif\" font-size=\"13\" lengthAdjust=\"spacingAndGlyphs\" textLength=\"6\" x=\"57.3598\" y=\"242.3521\">*</text></a><!--MD5=[24083354926ebd02989f173d42a6c8c6]\n",
       "@startuml\r\n",
       "skinparam monochrome true\r\n",
       "skinparam classbackgroundcolor white\r\n",
       "skinparam shadowing false\r\n",
       "skinparam wrapWidth 300\r\n",
       "hide circle\r\n",
       "\r\n",
       "package \"Hello\" as E1  [[psysml:b556d8c7-5ecd-4c74-8f0a-27ee9e613fa9 ]]  {\r\n",
       "comp usage \"system \" as E2  <<(T,blue) part>> [[psysml:0b6902f8-d140-4cd6-8e59-a9de4b5a8614 ]] {\r\n",
       "}\r\n",
       "comp usage \"A \" as E3  <<(T,blue) part>> [[psysml:cb7b52a8-3b2e-4f40-ae61-465bc376b06c ]] {\r\n",
       "}\r\n",
       "comp usage \"B \" as E4  <<(T,blue) part>> [[psysml:4f050e5d-b38d-4a30-8ba5-abf41a977f35 ]] {\r\n",
       "}\r\n",
       "}\r\n",
       "E2 *- - \"1\"E3 [[psysml:5431a416-5093-4b7b-9613-e798ac50bac1 ]] \r\n",
       "E2 *- - \"1\"E4 [[psysml:af57a46e-73be-46c1-a364-9280479100e8 ]] \r\n",
       "E3 -[thickness=3]- \"*\"E4 [[psysml:83bb6916-5ed6-4928-938a-c263c3aadc0b ]] \r\n",
       "@enduml\r\n",
       "\n",
       "PlantUML version 1.2020.13(Sat Jun 13 14:26:38 CEST 2020)\n",
       "(EPL source distribution)\n",
       "Java Runtime: OpenJDK Runtime Environment\n",
       "JVM: OpenJDK 64-Bit Server VM\n",
       "Default Encoding: UTF-8\n",
       "Language: de\n",
       "Country: DE\n",
       "--></g></svg>"
      ]
     },
     "execution_count": 2,
     "metadata": {},
     "output_type": "execute_result"
    }
   ],
   "source": [
    "%viz Hello"
   ]
  },
  {
   "cell_type": "code",
   "execution_count": 3,
   "id": "29361a9c",
   "metadata": {},
   "outputs": [
    {
     "data": {
      "image/svg+xml": [
       "<?xml version=\"1.0\" encoding=\"UTF-8\" standalone=\"no\"?><svg xmlns=\"http://www.w3.org/2000/svg\" xmlns:xlink=\"http://www.w3.org/1999/xlink\" contentScriptType=\"application/ecmascript\" contentStyleType=\"text/css\" height=\"226px\" preserveAspectRatio=\"none\" style=\"width:168px;height:226px;\" version=\"1.1\" viewBox=\"0 0 168 226\" width=\"168px\" zoomAndPan=\"magnify\"><defs/><g><!--MD5=[fbc87193dbaf4d95561dea2c320d4a47]\n",
       "cluster E1--><a href=\"psysml:b556d8c7-5ecd-4c74-8f0a-27ee9e613fa9\" target=\"_top\" title=\"psysml:b556d8c7-5ecd-4c74-8f0a-27ee9e613fa9\" xlink:actuate=\"onRequest\" xlink:href=\"psysml:b556d8c7-5ecd-4c74-8f0a-27ee9e613fa9\" xlink:show=\"new\" xlink:title=\"psysml:b556d8c7-5ecd-4c74-8f0a-27ee9e613fa9\" xlink:type=\"simple\"><polygon fill=\"#FFFFFF\" points=\"16,6,60,6,67,28.4883,146,28.4883,146,214,16,214,16,6\" style=\"stroke: #000000; stroke-width: 1.5;\"/><line style=\"stroke: #000000; stroke-width: 1.5;\" x1=\"16\" x2=\"67\" y1=\"28.4883\" y2=\"28.4883\"/><text fill=\"#000000\" font-family=\"sans-serif\" font-size=\"14\" font-weight=\"bold\" lengthAdjust=\"spacingAndGlyphs\" textLength=\"38\" x=\"20\" y=\"21.5352\">Hello</text></a><!--MD5=[e4f7fae6ed58524ba242bb0b0d3be6b7]\n",
       "cluster E2--><a href=\"psysml:0b6902f8-d140-4cd6-8e59-a9de4b5a8614\" target=\"_top\" title=\"psysml:0b6902f8-d140-4cd6-8e59-a9de4b5a8614\" xlink:actuate=\"onRequest\" xlink:href=\"psysml:0b6902f8-d140-4cd6-8e59-a9de4b5a8614\" xlink:show=\"new\" xlink:title=\"psysml:0b6902f8-d140-4cd6-8e59-a9de4b5a8614\" xlink:type=\"simple\"><rect fill=\"#FFFFFF\" height=\"141\" id=\"E2\" rx=\"10\" ry=\"10\" style=\"stroke: #383838; stroke-width: 1.5;\" width=\"82\" x=\"40\" y=\"49\"/><rect fill=\"#F8F8F8\" height=\"24.1328\" rx=\"10\" ry=\"10\" style=\"stroke: #F8F8F8; stroke-width: 1.5;\" width=\"82\" x=\"40\" y=\"49\"/><rect fill=\"#F8F8F8\" height=\"10\" style=\"stroke: #F8F8F8; stroke-width: 1.5;\" width=\"82\" x=\"40\" y=\"63.1328\"/><rect fill=\"none\" height=\"141\" id=\"E2\" rx=\"10\" ry=\"10\" style=\"stroke: #383838; stroke-width: 1.5;\" width=\"82\" x=\"40\" y=\"49\"/><text fill=\"#000000\" font-family=\"sans-serif\" font-size=\"12\" lengthAdjust=\"spacingAndGlyphs\" textLength=\"40\" x=\"61\" y=\"65.6016\">system</text><line style=\"stroke: #383838; stroke-width: 1.0;\" x1=\"40\" x2=\"122\" y1=\"73.1328\" y2=\"73.1328\"/></a><g id=\"E1.E2.E3\"><a href=\"psysml:cb7b52a8-3b2e-4f40-ae61-465bc376b06c\" target=\"_top\" title=\"psysml:cb7b52a8-3b2e-4f40-ae61-465bc376b06c\" xlink:actuate=\"onRequest\" xlink:href=\"psysml:cb7b52a8-3b2e-4f40-ae61-465bc376b06c\" xlink:show=\"new\" xlink:title=\"psysml:cb7b52a8-3b2e-4f40-ae61-465bc376b06c\" xlink:type=\"simple\"><rect fill=\"#FFFFFF\" height=\"40\" id=\"E3\" rx=\"10\" ry=\"10\" style=\"stroke: #383838; stroke-width: 1.5;\" width=\"50\" x=\"56\" y=\"84\"/><rect fill=\"#F8F8F8\" height=\"24.1328\" rx=\"10\" ry=\"10\" style=\"stroke: #F8F8F8; stroke-width: 1.5;\" width=\"50\" x=\"56\" y=\"84\"/><rect fill=\"#F8F8F8\" height=\"10\" style=\"stroke: #F8F8F8; stroke-width: 1.5;\" width=\"50\" x=\"56\" y=\"98.1328\"/><rect fill=\"none\" height=\"40\" id=\"E3\" rx=\"10\" ry=\"10\" style=\"stroke: #383838; stroke-width: 1.5;\" width=\"50\" x=\"56\" y=\"84\"/><text fill=\"#000000\" font-family=\"sans-serif\" font-size=\"12\" lengthAdjust=\"spacingAndGlyphs\" textLength=\"8\" x=\"77\" y=\"100.6016\">A</text></a></g><g id=\"E1.E2.E4\"><a href=\"psysml:4f050e5d-b38d-4a30-8ba5-abf41a977f35\" target=\"_top\" title=\"psysml:4f050e5d-b38d-4a30-8ba5-abf41a977f35\" xlink:actuate=\"onRequest\" xlink:href=\"psysml:4f050e5d-b38d-4a30-8ba5-abf41a977f35\" xlink:show=\"new\" xlink:title=\"psysml:4f050e5d-b38d-4a30-8ba5-abf41a977f35\" xlink:type=\"simple\"><rect fill=\"#FFFFFF\" height=\"40\" id=\"E4\" rx=\"10\" ry=\"10\" style=\"stroke: #383838; stroke-width: 1.5;\" width=\"50\" x=\"56\" y=\"134\"/><rect fill=\"#F8F8F8\" height=\"24.1328\" rx=\"10\" ry=\"10\" style=\"stroke: #F8F8F8; stroke-width: 1.5;\" width=\"50\" x=\"56\" y=\"134\"/><rect fill=\"#F8F8F8\" height=\"10\" style=\"stroke: #F8F8F8; stroke-width: 1.5;\" width=\"50\" x=\"56\" y=\"148.1328\"/><rect fill=\"none\" height=\"40\" id=\"E4\" rx=\"10\" ry=\"10\" style=\"stroke: #383838; stroke-width: 1.5;\" width=\"50\" x=\"56\" y=\"134\"/><text fill=\"#000000\" font-family=\"sans-serif\" font-size=\"12\" lengthAdjust=\"spacingAndGlyphs\" textLength=\"7\" x=\"77.5\" y=\"150.6016\">B</text></a></g><!--MD5=[af87c684e3b0d8be13c1a698a818ef1e]\n",
       "link E3 to E4--><a href=\"psysml:83bb6916-5ed6-4928-938a-c263c3aadc0b\" target=\"_top\" title=\"psysml:83bb6916-5ed6-4928-938a-c263c3aadc0b\" xlink:actuate=\"onRequest\" xlink:href=\"psysml:83bb6916-5ed6-4928-938a-c263c3aadc0b\" xlink:show=\"new\" xlink:title=\"psysml:83bb6916-5ed6-4928-938a-c263c3aadc0b\" xlink:type=\"simple\"><path d=\"M81,124.25 C81,127.38 81,130.62 81,133.75 \" fill=\"none\" id=\"E3-E4\" style=\"stroke: #383838; stroke-width: 3.0;\"/><text fill=\"#000000\" font-family=\"sans-serif\" font-size=\"13\" lengthAdjust=\"spacingAndGlyphs\" textLength=\"6\" x=\"66.2128\" y=\"123.1948\">*</text></a><!--MD5=[af3ba4817b73da4da4d6ddbc9e6090ec]\n",
       "@startuml\r\n",
       "skinparam ranksep 10\r\n",
       "skinparam rectangle {\r\n",
       " backgroundColor<<block>> LightGreen\r\n",
       "}\r\n",
       "skinparam monochrome true\r\n",
       "skinparam classbackgroundcolor white\r\n",
       "skinparam shadowing false\r\n",
       "skinparam wrapWidth 300\r\n",
       "hide circle\r\n",
       "\r\n",
       "package \"Hello\" as E1  [[psysml:b556d8c7-5ecd-4c74-8f0a-27ee9e613fa9 ]]  {\r\n",
       "rec usage \"system\" as E2  [[psysml:0b6902f8-d140-4cd6-8e59-a9de4b5a8614 ]] {\r\n",
       "rec usage \"A\" as E3  [[psysml:cb7b52a8-3b2e-4f40-ae61-465bc376b06c ]] {\r\n",
       "}\r\n",
       "rec usage \"B\" as E4  [[psysml:4f050e5d-b38d-4a30-8ba5-abf41a977f35 ]] {\r\n",
       "}\r\n",
       "}\r\n",
       "}\r\n",
       "E3 -[thickness=3]- \"*\"E4 [[psysml:83bb6916-5ed6-4928-938a-c263c3aadc0b ]] \r\n",
       "@enduml\r\n",
       "\n",
       "PlantUML version 1.2020.13(Sat Jun 13 14:26:38 CEST 2020)\n",
       "(EPL source distribution)\n",
       "Java Runtime: OpenJDK Runtime Environment\n",
       "JVM: OpenJDK 64-Bit Server VM\n",
       "Default Encoding: UTF-8\n",
       "Language: de\n",
       "Country: DE\n",
       "--></g></svg>"
      ]
     },
     "execution_count": 3,
     "metadata": {},
     "output_type": "execute_result"
    }
   ],
   "source": [
    "%viz --view=interconnection Hello"
   ]
  },
  {
   "cell_type": "code",
   "execution_count": null,
   "id": "3a52c8a2",
   "metadata": {},
   "outputs": [],
   "source": []
  }
 ],
 "metadata": {
  "kernelspec": {
   "display_name": "SysML",
   "language": "sysml",
   "name": "sysml"
  },
  "language_info": {
   "codemirror_mode": "sysml",
   "file_extension": ".sysml",
   "mimetype": "text/x-sysml",
   "name": "SysML",
   "pygments_lexer": "java",
   "version": "1.0.0"
  }
 },
 "nbformat": 4,
 "nbformat_minor": 5
}
